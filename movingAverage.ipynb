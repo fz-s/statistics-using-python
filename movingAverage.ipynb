{
 "cells": [
  {
   "cell_type": "code",
   "execution_count": null,
   "id": "85e1d958-19ab-415a-98a9-58a1bad7857f",
   "metadata": {},
   "outputs": [],
   "source": [
    "import pandas as pd"
   ]
  },
  {
   "cell_type": "code",
   "execution_count": null,
   "id": "40b69bc1-29b0-4318-8fe3-d17cf74d890a",
   "metadata": {},
   "outputs": [],
   "source": [
    "from random import sample"
   ]
  },
  {
   "cell_type": "code",
   "execution_count": null,
   "id": "66d39ae6-6aaf-4355-b157-537cdb671a6a",
   "metadata": {},
   "outputs": [],
   "source": [
    "import datetime as dt"
   ]
  },
  {
   "cell_type": "code",
   "execution_count": null,
   "id": "ee33d864-8826-4bff-8f2d-4074a5d00f09",
   "metadata": {},
   "outputs": [],
   "source": [
    "df = pd.DataFrame(\n",
    "    {\n",
    "        'name': ['Alice', 'Bob', 'Charlie', 'David', 'Emily'],\n",
    "        'age': [25, 30, 22, 42, 45],\n",
    "        'city': ['NY', 'LA', 'SF', 'NY', 'LA'],\n",
    "    }\n",
    ")\n",
    "df"
   ]
  },
  {
   "cell_type": "markdown",
   "id": "9a8134e2-29ef-4a23-883e-25749ca275d5",
   "metadata": {},
   "source": [
    "### iterating through columns"
   ]
  },
  {
   "cell_type": "code",
   "execution_count": null,
   "id": "1633f174-3e3a-4c50-8464-0e7ac7868f78",
   "metadata": {},
   "outputs": [],
   "source": [
    "for col_name in df.columns:\n",
    "    print(col_name)"
   ]
  },
  {
   "cell_type": "markdown",
   "id": "24978bb8-1c96-4320-b809-0b07cec4c513",
   "metadata": {},
   "source": [
    "### iterating through rows/"
   ]
  },
  {
   "cell_type": "code",
   "execution_count": null,
   "id": "2eeb9e79-8be4-40fd-a27a-fe876e05f0de",
   "metadata": {},
   "outputs": [],
   "source": [
    "for _index, _row in df.iterrows():\n",
    "    print(f\"{_index+1}. name: {_row['name']}, age: {_row['age']}\")"
   ]
  },
  {
   "cell_type": "markdown",
   "id": "e0bffb9a-1b80-4ef4-a46a-4b2a57dbaaa5",
   "metadata": {},
   "source": [
    "### grouping & aggregating "
   ]
  },
  {
   "cell_type": "code",
   "execution_count": null,
   "id": "a182c8a4-8136-435c-9a05-e5741e056209",
   "metadata": {},
   "outputs": [],
   "source": [
    "df.groupby('city', as_index=False)['age'].agg('mean')"
   ]
  },
  {
   "cell_type": "markdown",
   "id": "6ebdfcf8-a48a-4566-bec0-a0e1839f6544",
   "metadata": {},
   "source": [
    "### moving averages"
   ]
  },
  {
   "cell_type": "code",
   "execution_count": null,
   "id": "b2ae2e0b-5216-4796-902d-44fbf2cbf254",
   "metadata": {},
   "outputs": [],
   "source": [
    "sample(range(100, 120), 12)"
   ]
  },
  {
   "cell_type": "code",
   "execution_count": null,
   "id": "7224ab4a-0739-49c3-ae26-2a449d0ae6bc",
   "metadata": {},
   "outputs": [],
   "source": [
    "df = pd.DataFrame(\n",
    "    data= {'price':sample(range(100, 120), 12), \n",
    "          },\n",
    "    index= pd.date_range(start='2020-01-01', periods=12, freq='MS')\n",
    ")\n",
    "df.sample(5)"
   ]
  },
  {
   "cell_type": "code",
   "execution_count": null,
   "id": "7d5dc3d3-f6de-4ec2-9cfb-c2e8cdfe4361",
   "metadata": {},
   "outputs": [],
   "source": [
    "df['3MonthRollingAverage'] = df['price'].rolling(window=3).mean()#.astype('int')\n",
    "df['6MonthRollingAverage'] = df['price'].rolling(window=6).mean()#.astype('int')"
   ]
  },
  {
   "cell_type": "code",
   "execution_count": null,
   "id": "298660b8-20fd-4b1f-8ae4-a259fe07ec3d",
   "metadata": {},
   "outputs": [],
   "source": [
    "df"
   ]
  },
  {
   "cell_type": "code",
   "execution_count": null,
   "id": "bcbb2e29-43aa-4a91-9293-486d3f118b79",
   "metadata": {},
   "outputs": [],
   "source": []
  }
 ],
 "metadata": {
  "kernelspec": {
   "display_name": "pydev",
   "language": "python",
   "name": "python3"
  },
  "language_info": {
   "codemirror_mode": {
    "name": "ipython",
    "version": 3
   },
   "file_extension": ".py",
   "mimetype": "text/x-python",
   "name": "python",
   "nbconvert_exporter": "python",
   "pygments_lexer": "ipython3",
   "version": "3.10.12"
  }
 },
 "nbformat": 4,
 "nbformat_minor": 5
}
