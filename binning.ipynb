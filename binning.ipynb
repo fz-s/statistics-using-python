{
 "cells": [
  {
   "cell_type": "code",
   "execution_count": 49,
   "metadata": {},
   "outputs": [],
   "source": [
    "import numpy as np\n",
    "import pandas as pd\n",
    "from random import sample, choice"
   ]
  },
  {
   "cell_type": "code",
   "execution_count": 35,
   "metadata": {},
   "outputs": [
    {
     "data": {
      "text/html": [
       "<div>\n",
       "<style scoped>\n",
       "    .dataframe tbody tr th:only-of-type {\n",
       "        vertical-align: middle;\n",
       "    }\n",
       "\n",
       "    .dataframe tbody tr th {\n",
       "        vertical-align: top;\n",
       "    }\n",
       "\n",
       "    .dataframe thead th {\n",
       "        text-align: right;\n",
       "    }\n",
       "</style>\n",
       "<table border=\"1\" class=\"dataframe\">\n",
       "  <thead>\n",
       "    <tr style=\"text-align: right;\">\n",
       "      <th></th>\n",
       "      <th>ages</th>\n",
       "      <th>sex</th>\n",
       "    </tr>\n",
       "  </thead>\n",
       "  <tbody>\n",
       "    <tr>\n",
       "      <th>0</th>\n",
       "      <td>66</td>\n",
       "      <td>F</td>\n",
       "    </tr>\n",
       "    <tr>\n",
       "      <th>1</th>\n",
       "      <td>19</td>\n",
       "      <td>F</td>\n",
       "    </tr>\n",
       "    <tr>\n",
       "      <th>2</th>\n",
       "      <td>71</td>\n",
       "      <td>F</td>\n",
       "    </tr>\n",
       "    <tr>\n",
       "      <th>3</th>\n",
       "      <td>36</td>\n",
       "      <td>F</td>\n",
       "    </tr>\n",
       "    <tr>\n",
       "      <th>4</th>\n",
       "      <td>24</td>\n",
       "      <td>M</td>\n",
       "    </tr>\n",
       "    <tr>\n",
       "      <th>5</th>\n",
       "      <td>92</td>\n",
       "      <td>F</td>\n",
       "    </tr>\n",
       "    <tr>\n",
       "      <th>6</th>\n",
       "      <td>45</td>\n",
       "      <td>M</td>\n",
       "    </tr>\n",
       "    <tr>\n",
       "      <th>7</th>\n",
       "      <td>23</td>\n",
       "      <td>F</td>\n",
       "    </tr>\n",
       "    <tr>\n",
       "      <th>8</th>\n",
       "      <td>25</td>\n",
       "      <td>M</td>\n",
       "    </tr>\n",
       "    <tr>\n",
       "      <th>9</th>\n",
       "      <td>67</td>\n",
       "      <td>F</td>\n",
       "    </tr>\n",
       "    <tr>\n",
       "      <th>10</th>\n",
       "      <td>63</td>\n",
       "      <td>F</td>\n",
       "    </tr>\n",
       "    <tr>\n",
       "      <th>11</th>\n",
       "      <td>99</td>\n",
       "      <td>M</td>\n",
       "    </tr>\n",
       "    <tr>\n",
       "      <th>12</th>\n",
       "      <td>42</td>\n",
       "      <td>M</td>\n",
       "    </tr>\n",
       "    <tr>\n",
       "      <th>13</th>\n",
       "      <td>96</td>\n",
       "      <td>M</td>\n",
       "    </tr>\n",
       "    <tr>\n",
       "      <th>14</th>\n",
       "      <td>10</td>\n",
       "      <td>F</td>\n",
       "    </tr>\n",
       "    <tr>\n",
       "      <th>15</th>\n",
       "      <td>93</td>\n",
       "      <td>M</td>\n",
       "    </tr>\n",
       "    <tr>\n",
       "      <th>16</th>\n",
       "      <td>55</td>\n",
       "      <td>F</td>\n",
       "    </tr>\n",
       "    <tr>\n",
       "      <th>17</th>\n",
       "      <td>72</td>\n",
       "      <td>F</td>\n",
       "    </tr>\n",
       "    <tr>\n",
       "      <th>18</th>\n",
       "      <td>20</td>\n",
       "      <td>M</td>\n",
       "    </tr>\n",
       "    <tr>\n",
       "      <th>19</th>\n",
       "      <td>33</td>\n",
       "      <td>F</td>\n",
       "    </tr>\n",
       "    <tr>\n",
       "      <th>20</th>\n",
       "      <td>89</td>\n",
       "      <td>M</td>\n",
       "    </tr>\n",
       "    <tr>\n",
       "      <th>21</th>\n",
       "      <td>77</td>\n",
       "      <td>M</td>\n",
       "    </tr>\n",
       "    <tr>\n",
       "      <th>22</th>\n",
       "      <td>62</td>\n",
       "      <td>F</td>\n",
       "    </tr>\n",
       "    <tr>\n",
       "      <th>23</th>\n",
       "      <td>30</td>\n",
       "      <td>M</td>\n",
       "    </tr>\n",
       "    <tr>\n",
       "      <th>24</th>\n",
       "      <td>85</td>\n",
       "      <td>F</td>\n",
       "    </tr>\n",
       "  </tbody>\n",
       "</table>\n",
       "</div>"
      ],
      "text/plain": [
       "    ages sex\n",
       "0     66   F\n",
       "1     19   F\n",
       "2     71   F\n",
       "3     36   F\n",
       "4     24   M\n",
       "5     92   F\n",
       "6     45   M\n",
       "7     23   F\n",
       "8     25   M\n",
       "9     67   F\n",
       "10    63   F\n",
       "11    99   M\n",
       "12    42   M\n",
       "13    96   M\n",
       "14    10   F\n",
       "15    93   M\n",
       "16    55   F\n",
       "17    72   F\n",
       "18    20   M\n",
       "19    33   F\n",
       "20    89   M\n",
       "21    77   M\n",
       "22    62   F\n",
       "23    30   M\n",
       "24    85   F"
      ]
     },
     "execution_count": 35,
     "metadata": {},
     "output_type": "execute_result"
    }
   ],
   "source": [
    "df = pd.DataFrame(\n",
    "    data={\n",
    "        'ages': sample(range(0, 100), 25), \n",
    "        'sex': [choice(['M', 'F']) for _ in range(25)],\n",
    "    }\n",
    ")\n",
    "df"
   ]
  },
  {
   "cell_type": "code",
   "execution_count": 36,
   "metadata": {},
   "outputs": [
    {
     "data": {
      "text/plain": [
       "count    25.000000\n",
       "mean     55.760000\n",
       "std      28.172504\n",
       "min      10.000000\n",
       "25%      30.000000\n",
       "50%      62.000000\n",
       "75%      77.000000\n",
       "max      99.000000\n",
       "Name: ages, dtype: float64"
      ]
     },
     "execution_count": 36,
     "metadata": {},
     "output_type": "execute_result"
    }
   ],
   "source": [
    "df.ages.describe()"
   ]
  },
  {
   "cell_type": "code",
   "execution_count": 41,
   "metadata": {},
   "outputs": [
    {
     "data": {
      "text/plain": [
       "0     (40.0, 69.0]\n",
       "1     (10.0, 40.0]\n",
       "2     (69.0, 99.0]\n",
       "3     (10.0, 40.0]\n",
       "4     (10.0, 40.0]\n",
       "5     (69.0, 99.0]\n",
       "6     (40.0, 69.0]\n",
       "7     (10.0, 40.0]\n",
       "8     (10.0, 40.0]\n",
       "9     (40.0, 69.0]\n",
       "10    (40.0, 69.0]\n",
       "11    (69.0, 99.0]\n",
       "12    (40.0, 69.0]\n",
       "13    (69.0, 99.0]\n",
       "14    (10.0, 40.0]\n",
       "15    (69.0, 99.0]\n",
       "16    (40.0, 69.0]\n",
       "17    (69.0, 99.0]\n",
       "18    (10.0, 40.0]\n",
       "19    (10.0, 40.0]\n",
       "20    (69.0, 99.0]\n",
       "21    (69.0, 99.0]\n",
       "22    (40.0, 69.0]\n",
       "23    (10.0, 40.0]\n",
       "24    (69.0, 99.0]\n",
       "Name: ages, dtype: category\n",
       "Categories (3, interval[float64, right]): [(10.0, 40.0] < (40.0, 69.0] < (69.0, 99.0]]"
      ]
     },
     "execution_count": 41,
     "metadata": {},
     "output_type": "execute_result"
    }
   ],
   "source": [
    "# equal-width bins\n",
    "pd.cut(df.ages, bins=3, precision=0, include_lowest=False)"
   ]
  },
  {
   "cell_type": "code",
   "execution_count": 42,
   "metadata": {},
   "outputs": [
    {
     "data": {
      "text/plain": [
       "0     (62.0, 77.0]\n",
       "1     (9.99, 30.0]\n",
       "2     (62.0, 77.0]\n",
       "3     (30.0, 62.0]\n",
       "4     (9.99, 30.0]\n",
       "5     (77.0, 99.0]\n",
       "6     (30.0, 62.0]\n",
       "7     (9.99, 30.0]\n",
       "8     (9.99, 30.0]\n",
       "9     (62.0, 77.0]\n",
       "10    (62.0, 77.0]\n",
       "11    (77.0, 99.0]\n",
       "12    (30.0, 62.0]\n",
       "13    (77.0, 99.0]\n",
       "14    (9.99, 30.0]\n",
       "15    (77.0, 99.0]\n",
       "16    (30.0, 62.0]\n",
       "17    (62.0, 77.0]\n",
       "18    (9.99, 30.0]\n",
       "19    (30.0, 62.0]\n",
       "20    (77.0, 99.0]\n",
       "21    (62.0, 77.0]\n",
       "22    (30.0, 62.0]\n",
       "23    (9.99, 30.0]\n",
       "24    (77.0, 99.0]\n",
       "Name: ages, dtype: category\n",
       "Categories (4, interval[float64, right]): [(9.99, 30.0] < (30.0, 62.0] < (62.0, 77.0] < (77.0, 99.0]]"
      ]
     },
     "execution_count": 42,
     "metadata": {},
     "output_type": "execute_result"
    }
   ],
   "source": [
    "# equal-frequency bins i.e., bins with approximately equal counts in each\n",
    "pd.qcut(df.ages, q=4, precision=2, retbins=False)"
   ]
  },
  {
   "cell_type": "markdown",
   "metadata": {},
   "source": [
    "Freedman–Diaconis’ Choice specifies the number of bins for a sample x, and it is based on the InterQuartile Range (IQR) and the number of observations n, as shown in the following formula:\n",
    "\n",
    "k = 2 * IQR(x)/[cube root of n]"
   ]
  },
  {
   "cell_type": "code",
   "execution_count": 47,
   "metadata": {},
   "outputs": [
    {
     "data": {
      "text/plain": [
       "np.float64(32.1475477975219)"
      ]
     },
     "execution_count": 47,
     "metadata": {},
     "output_type": "execute_result"
    }
   ],
   "source": [
    "# calculating IQR\n",
    "iqr = df.ages.quantile(0.75) - df.ages.quantile(0.25)\n",
    "2*iqr/(df.ages.count() ** (1/3))"
   ]
  },
  {
   "cell_type": "markdown",
   "metadata": {},
   "source": [
    "Sturge’s Rule to determine the number of bins k for Gaussian-based data is based on the number of observations n, and it is expressed as follows:\n",
    "\n",
    "k = 1 + 3.322 * log n"
   ]
  },
  {
   "cell_type": "code",
   "execution_count": 50,
   "metadata": {},
   "outputs": [
    {
     "data": {
      "text/plain": [
       "np.float64(11.693105490212162)"
      ]
     },
     "execution_count": 50,
     "metadata": {},
     "output_type": "execute_result"
    }
   ],
   "source": [
    "1 + (3.322*np.log(df.ages.count()))"
   ]
  },
  {
   "cell_type": "markdown",
   "metadata": {},
   "source": [
    "Partitioning the values of people’s ages as described in the preceding section can be problematic. In particular, suppose that person A, person B, and person C are 29, 30, and 39 years old, respectively. Then, person A and person B are probably much more similar to each other than person B and person C, but because of the way in which the ages are partitioned, B is classified as closer to C than to A. In fact, binning can increase Type I errors (false positive) and Type II errors (false negative)"
   ]
  },
  {
   "cell_type": "markdown",
   "metadata": {},
   "source": []
  }
 ],
 "metadata": {
  "kernelspec": {
   "display_name": "pydev",
   "language": "python",
   "name": "pydev"
  },
  "language_info": {
   "codemirror_mode": {
    "name": "ipython",
    "version": 3
   },
   "file_extension": ".py",
   "mimetype": "text/x-python",
   "name": "python",
   "nbconvert_exporter": "python",
   "pygments_lexer": "ipython3",
   "version": "3.10.12"
  }
 },
 "nbformat": 4,
 "nbformat_minor": 2
}
